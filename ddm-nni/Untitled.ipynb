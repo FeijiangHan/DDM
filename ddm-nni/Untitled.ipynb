{
 "cells": [
  {
   "cell_type": "code",
   "execution_count": 2,
   "id": "4a834803-23d1-45d0-9b77-6d8e671c16cc",
   "metadata": {},
   "outputs": [],
   "source": [
    "from dgl.data import TUDataset\n",
    "import torch \n"
   ]
  },
  {
   "cell_type": "code",
   "execution_count": 3,
   "id": "2d48c069-5fca-4daf-b8ec-b67b6b834a41",
   "metadata": {},
   "outputs": [],
   "source": [
    "dataset = TUDataset('COLLAB')\n"
   ]
  },
  {
   "cell_type": "code",
   "execution_count": 6,
   "id": "28d19fe9-0b54-4dcf-87a8-c0a6f47da76a",
   "metadata": {},
   "outputs": [],
   "source": [
    "labels = torch.tensor([x[1] for x in dataset])"
   ]
  },
  {
   "cell_type": "code",
   "execution_count": 10,
   "id": "a8c10702-03e4-4380-b3cf-bcbbc3572ab0",
   "metadata": {},
   "outputs": [
    {
     "data": {
      "text/plain": [
       "tensor(2600)"
      ]
     },
     "execution_count": 10,
     "metadata": {},
     "output_type": "execute_result"
    }
   ],
   "source": [
    "(labels==0).sum()"
   ]
  },
  {
   "cell_type": "code",
   "execution_count": 11,
   "id": "3797c057-9bd7-4b6e-a486-0574eb23c1ea",
   "metadata": {},
   "outputs": [
    {
     "data": {
      "text/plain": [
       "tensor(775)"
      ]
     },
     "execution_count": 11,
     "metadata": {},
     "output_type": "execute_result"
    }
   ],
   "source": [
    "(labels==1).sum()"
   ]
  },
  {
   "cell_type": "code",
   "execution_count": 12,
   "id": "0d7e5e5c-d438-4997-84e8-6ab864f8be25",
   "metadata": {},
   "outputs": [
    {
     "data": {
      "text/plain": [
       "tensor(1625)"
      ]
     },
     "execution_count": 12,
     "metadata": {},
     "output_type": "execute_result"
    }
   ],
   "source": [
    "(labels==2).sum()"
   ]
  },
  {
   "cell_type": "code",
   "execution_count": 17,
   "id": "070d4bdc-55f5-4157-840d-2e0b988668df",
   "metadata": {},
   "outputs": [
    {
     "data": {
      "text/plain": [
       "(tensor([3375, 3376, 3377,  ..., 4997, 4998, 4999]),)"
      ]
     },
     "execution_count": 17,
     "metadata": {},
     "output_type": "execute_result"
    }
   ],
   "source": [
    "torch.where(labels==2)"
   ]
  },
  {
   "cell_type": "code",
   "execution_count": null,
   "id": "c854adbd-be75-4417-8dca-b811eaea60ee",
   "metadata": {},
   "outputs": [],
   "source": []
  }
 ],
 "metadata": {
  "kernelspec": {
   "display_name": "Python 3 (ipykernel)",
   "language": "python",
   "name": "python3"
  },
  "language_info": {
   "codemirror_mode": {
    "name": "ipython",
    "version": 3
   },
   "file_extension": ".py",
   "mimetype": "text/x-python",
   "name": "python",
   "nbconvert_exporter": "python",
   "pygments_lexer": "ipython3",
   "version": "3.8.10"
  }
 },
 "nbformat": 4,
 "nbformat_minor": 5
}
